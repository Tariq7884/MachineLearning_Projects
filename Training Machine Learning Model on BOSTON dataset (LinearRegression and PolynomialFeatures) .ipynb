{
 "cells": [
  {
   "cell_type": "markdown",
   "id": "495c1fac",
   "metadata": {},
   "source": [
    "# Importing Libraries"
   ]
  },
  {
   "cell_type": "code",
   "execution_count": 1,
   "id": "aba32336",
   "metadata": {},
   "outputs": [],
   "source": [
    "import numpy as np\n",
    "import pandas as pd\n",
    "import matplotlib.pyplot as plt\n",
    "from sklearn.model_selection import train_test_split\n",
    "from sklearn.linear_model import LinearRegression"
   ]
  },
  {
   "cell_type": "markdown",
   "id": "3d1a087f",
   "metadata": {},
   "source": [
    "# Importing Dataset"
   ]
  },
  {
   "cell_type": "code",
   "execution_count": 2,
   "id": "1794beff",
   "metadata": {},
   "outputs": [],
   "source": [
    "file_train = pd.read_csv('TRAIN2.csv')\n",
    "file_test = pd.read_csv('Test.csv')"
   ]
  },
  {
   "cell_type": "code",
   "execution_count": 3,
   "id": "e1271b8a",
   "metadata": {},
   "outputs": [
    {
     "data": {
      "text/html": [
       "<div>\n",
       "<style scoped>\n",
       "    .dataframe tbody tr th:only-of-type {\n",
       "        vertical-align: middle;\n",
       "    }\n",
       "\n",
       "    .dataframe tbody tr th {\n",
       "        vertical-align: top;\n",
       "    }\n",
       "\n",
       "    .dataframe thead th {\n",
       "        text-align: right;\n",
       "    }\n",
       "</style>\n",
       "<table border=\"1\" class=\"dataframe\">\n",
       "  <thead>\n",
       "    <tr style=\"text-align: right;\">\n",
       "      <th></th>\n",
       "      <th>Id</th>\n",
       "      <th>MSSubClass</th>\n",
       "      <th>MSZoning</th>\n",
       "      <th>LotFrontage</th>\n",
       "      <th>LotArea</th>\n",
       "      <th>Street</th>\n",
       "      <th>Alley</th>\n",
       "      <th>LotShape</th>\n",
       "      <th>LandContour</th>\n",
       "      <th>Utilities</th>\n",
       "      <th>...</th>\n",
       "      <th>PoolArea</th>\n",
       "      <th>PoolQC</th>\n",
       "      <th>Fence</th>\n",
       "      <th>MiscFeature</th>\n",
       "      <th>MiscVal</th>\n",
       "      <th>MoSold</th>\n",
       "      <th>YrSold</th>\n",
       "      <th>SaleType</th>\n",
       "      <th>SaleCondition</th>\n",
       "      <th>SalePrice</th>\n",
       "    </tr>\n",
       "  </thead>\n",
       "  <tbody>\n",
       "    <tr>\n",
       "      <th>0</th>\n",
       "      <td>1</td>\n",
       "      <td>60</td>\n",
       "      <td>RL</td>\n",
       "      <td>65.0</td>\n",
       "      <td>8450</td>\n",
       "      <td>Pave</td>\n",
       "      <td>NaN</td>\n",
       "      <td>Reg</td>\n",
       "      <td>Lvl</td>\n",
       "      <td>AllPub</td>\n",
       "      <td>...</td>\n",
       "      <td>0</td>\n",
       "      <td>NaN</td>\n",
       "      <td>NaN</td>\n",
       "      <td>NaN</td>\n",
       "      <td>0</td>\n",
       "      <td>2</td>\n",
       "      <td>2008</td>\n",
       "      <td>WD</td>\n",
       "      <td>Normal</td>\n",
       "      <td>208500</td>\n",
       "    </tr>\n",
       "    <tr>\n",
       "      <th>1</th>\n",
       "      <td>2</td>\n",
       "      <td>20</td>\n",
       "      <td>RL</td>\n",
       "      <td>80.0</td>\n",
       "      <td>9600</td>\n",
       "      <td>Pave</td>\n",
       "      <td>NaN</td>\n",
       "      <td>Reg</td>\n",
       "      <td>Lvl</td>\n",
       "      <td>AllPub</td>\n",
       "      <td>...</td>\n",
       "      <td>0</td>\n",
       "      <td>NaN</td>\n",
       "      <td>NaN</td>\n",
       "      <td>NaN</td>\n",
       "      <td>0</td>\n",
       "      <td>5</td>\n",
       "      <td>2007</td>\n",
       "      <td>WD</td>\n",
       "      <td>Normal</td>\n",
       "      <td>181500</td>\n",
       "    </tr>\n",
       "    <tr>\n",
       "      <th>2</th>\n",
       "      <td>3</td>\n",
       "      <td>60</td>\n",
       "      <td>RL</td>\n",
       "      <td>68.0</td>\n",
       "      <td>11250</td>\n",
       "      <td>Pave</td>\n",
       "      <td>NaN</td>\n",
       "      <td>IR1</td>\n",
       "      <td>Lvl</td>\n",
       "      <td>AllPub</td>\n",
       "      <td>...</td>\n",
       "      <td>0</td>\n",
       "      <td>NaN</td>\n",
       "      <td>NaN</td>\n",
       "      <td>NaN</td>\n",
       "      <td>0</td>\n",
       "      <td>9</td>\n",
       "      <td>2008</td>\n",
       "      <td>WD</td>\n",
       "      <td>Normal</td>\n",
       "      <td>223500</td>\n",
       "    </tr>\n",
       "  </tbody>\n",
       "</table>\n",
       "<p>3 rows × 81 columns</p>\n",
       "</div>"
      ],
      "text/plain": [
       "   Id  MSSubClass MSZoning  LotFrontage  LotArea Street Alley LotShape  \\\n",
       "0   1          60       RL         65.0     8450   Pave   NaN      Reg   \n",
       "1   2          20       RL         80.0     9600   Pave   NaN      Reg   \n",
       "2   3          60       RL         68.0    11250   Pave   NaN      IR1   \n",
       "\n",
       "  LandContour Utilities  ... PoolArea PoolQC Fence MiscFeature MiscVal MoSold  \\\n",
       "0         Lvl    AllPub  ...        0    NaN   NaN         NaN       0      2   \n",
       "1         Lvl    AllPub  ...        0    NaN   NaN         NaN       0      5   \n",
       "2         Lvl    AllPub  ...        0    NaN   NaN         NaN       0      9   \n",
       "\n",
       "  YrSold  SaleType  SaleCondition  SalePrice  \n",
       "0   2008        WD         Normal     208500  \n",
       "1   2007        WD         Normal     181500  \n",
       "2   2008        WD         Normal     223500  \n",
       "\n",
       "[3 rows x 81 columns]"
      ]
     },
     "execution_count": 3,
     "metadata": {},
     "output_type": "execute_result"
    }
   ],
   "source": [
    "file_train.head(3)"
   ]
  },
  {
   "cell_type": "markdown",
   "id": "ebfaf63f",
   "metadata": {},
   "source": [
    "# Selecting Best Features"
   ]
  },
  {
   "cell_type": "code",
   "execution_count": 4,
   "id": "edf433c9",
   "metadata": {},
   "outputs": [
    {
     "data": {
      "text/plain": [
       "Id                0.867500\n",
       "MSSubClass        0.502658\n",
       "LotFrontage       6.279505\n",
       "LotArea           4.575620\n",
       "OverallQual       9.910221\n",
       "OverallCond      -0.982140\n",
       "YearBuilt         6.506246\n",
       "YearRemodAdd      6.739078\n",
       "MasVnrArea        6.436896\n",
       "BsmtFinSF1        5.039739\n",
       "BsmtFinSF2        0.879727\n",
       "BsmtUnfSF         2.993672\n",
       "TotalBsmtSF       8.578697\n",
       "1stFlrSF          8.690109\n",
       "2ndFlrSF          5.641735\n",
       "LowQualFinSF      0.856181\n",
       "GrLivArea        11.158176\n",
       "BsmtFullBath      3.082606\n",
       "BsmtHalfBath      0.799514\n",
       "FullBath          8.692677\n",
       "HalfBath          4.799244\n",
       "BedroomAbvGr      4.869218\n",
       "KitchenAbvGr      0.550042\n",
       "TotRmsAbvGrd      9.105281\n",
       "Fireplaces        6.765284\n",
       "GarageYrBlt       6.588106\n",
       "GarageCars        8.949361\n",
       "GarageArea        8.923901\n",
       "WoodDeckSF        4.859243\n",
       "OpenPorchSF       5.324573\n",
       "EnclosedPorch    -1.063575\n",
       "3SsnPorch         1.346992\n",
       "ScreenPorch       2.129487\n",
       "PoolArea          2.875804\n",
       "MiscVal           0.924868\n",
       "MoSold            1.488082\n",
       "YrSold            0.499895\n",
       "SalePrice        11.136020\n",
       "dtype: float64"
      ]
     },
     "execution_count": 4,
     "metadata": {},
     "output_type": "execute_result"
    }
   ],
   "source": [
    "file_train.corr().sum()"
   ]
  },
  {
   "cell_type": "code",
   "execution_count": 5,
   "id": "6a59c6e9",
   "metadata": {},
   "outputs": [],
   "source": [
    "feat = file_train[['GrLivArea']]\n",
    "label = file_train[['SalePrice']]\n",
    "\n",
    "testing = file_test[['GrLivArea']]"
   ]
  },
  {
   "cell_type": "code",
   "execution_count": 6,
   "id": "ee5e966c",
   "metadata": {},
   "outputs": [],
   "source": [
    "feat = feat.iloc[:1459]\n",
    "label = label.iloc[:1459]"
   ]
  },
  {
   "cell_type": "markdown",
   "id": "cf77669d",
   "metadata": {},
   "source": [
    "# Model Training"
   ]
  },
  {
   "cell_type": "code",
   "execution_count": 7,
   "id": "236f97f9",
   "metadata": {},
   "outputs": [],
   "source": [
    "lnr = LinearRegression()"
   ]
  },
  {
   "cell_type": "code",
   "execution_count": 8,
   "id": "cfa53f22",
   "metadata": {},
   "outputs": [
    {
     "data": {
      "text/plain": [
       "LinearRegression()"
      ]
     },
     "execution_count": 8,
     "metadata": {},
     "output_type": "execute_result"
    }
   ],
   "source": [
    "lnr.fit(feat,label)"
   ]
  },
  {
   "cell_type": "markdown",
   "id": "ca13151e",
   "metadata": {},
   "source": [
    "# Accuracy"
   ]
  },
  {
   "cell_type": "code",
   "execution_count": 9,
   "id": "5bdef8ce",
   "metadata": {},
   "outputs": [],
   "source": [
    "lnr_acc = lnr.score(feat, label)*100"
   ]
  },
  {
   "cell_type": "markdown",
   "id": "c2bf2bb3",
   "metadata": {},
   "source": [
    "# Prediction Plotting"
   ]
  },
  {
   "cell_type": "code",
   "execution_count": 10,
   "id": "c33cc07f",
   "metadata": {},
   "outputs": [
    {
     "data": {
      "image/png": "[encoded data removed]",
      "text/plain": [
       "<Figure size 432x288 with 1 Axes>"
      ]
     },
     "metadata": {
      "needs_background": "light"
     },
     "output_type": "display_data"
    }
   ],
   "source": [
    "for i in feat:\n",
    "    plt.scatter(feat[i], label)\n",
    "    plt.plot(testing, lnr.predict(testing), color = 'black')"
   ]
  },
  {
   "cell_type": "markdown",
   "id": "601f91ab",
   "metadata": {},
   "source": [
    "# Multivariant Regression"
   ]
  },
  {
   "cell_type": "markdown",
   "id": "85e4529a",
   "metadata": {},
   "source": [
    "# Selecting Multiple Features"
   ]
  },
  {
   "cell_type": "code",
   "execution_count": 11,
   "id": "4127c3f8",
   "metadata": {},
   "outputs": [],
   "source": [
    "x = file_train[['OverallQual','1stFlrSF','FullBath','GarageCars','GarageArea','GrLivArea']]\n",
    "y = file_train['SalePrice']\n",
    "multi_testing = file_test[['OverallQual','1stFlrSF','FullBath','GarageCars','GarageArea','GrLivArea']]"
   ]
  },
  {
   "cell_type": "markdown",
   "id": "10b20f1b",
   "metadata": {},
   "source": [
    "# Filling NaN values"
   ]
  },
  {
   "cell_type": "code",
   "execution_count": 12,
   "id": "966ad8fe",
   "metadata": {},
   "outputs": [
    {
     "name": "stderr",
     "output_type": "stream",
     "text": [
      "C:\\Users\\DeeP_LeaRneR\\anaconda3_Tariq_Ullah\\lib\\site-packages\\pandas\\core\\generic.py:6392: SettingWithCopyWarning: \n",
      "A value is trying to be set on a copy of a slice from a DataFrame\n",
      "\n",
      "See the caveats in the documentation: https://pandas.pydata.org/pandas-docs/stable/user_guide/indexing.html#returning-a-view-versus-a-copy\n",
      "  return self._update_inplace(result)\n"
     ]
    }
   ],
   "source": [
    "multi_testing.fillna(multi_testing.mean(), inplace = True)"
   ]
  },
  {
   "cell_type": "code",
   "execution_count": 13,
   "id": "44913651",
   "metadata": {},
   "outputs": [],
   "source": [
    "x = x.iloc[:1459,:]\n",
    "y = y.iloc[:1459]"
   ]
  },
  {
   "cell_type": "markdown",
   "id": "864a7d14",
   "metadata": {},
   "source": [
    "# Training Model"
   ]
  },
  {
   "cell_type": "code",
   "execution_count": 14,
   "id": "8c745f3c",
   "metadata": {},
   "outputs": [],
   "source": [
    "multi = LinearRegression()"
   ]
  },
  {
   "cell_type": "code",
   "execution_count": 15,
   "id": "fb7451e9",
   "metadata": {},
   "outputs": [
    {
     "data": {
      "text/plain": [
       "LinearRegression()"
      ]
     },
     "execution_count": 15,
     "metadata": {},
     "output_type": "execute_result"
    }
   ],
   "source": [
    "multi.fit(x,y)"
   ]
  },
  {
   "cell_type": "markdown",
   "id": "bc4818ed",
   "metadata": {},
   "source": [
    "# Accuracy"
   ]
  },
  {
   "cell_type": "code",
   "execution_count": 16,
   "id": "55937a2e",
   "metadata": {},
   "outputs": [],
   "source": [
    "multi_acc = multi.score(x,y)*100"
   ]
  },
  {
   "cell_type": "markdown",
   "id": "f5b23f19",
   "metadata": {},
   "source": [
    "# Prediction Plotting"
   ]
  },
  {
   "cell_type": "code",
   "execution_count": 17,
   "id": "a6237e99",
   "metadata": {},
   "outputs": [
    {
     "data": {
      "image/png": "[encoded data removed]",
      "text/plain": [
       "<Figure size 432x288 with 1 Axes>"
      ]
     },
     "metadata": {
      "needs_background": "light"
     },
     "output_type": "display_data"
    }
   ],
   "source": [
    "for i in x:\n",
    "    plt.scatter(x[i], y)\n",
    "    plt.plot(multi_testing, multi.predict(multi_testing), color = 'blue')"
   ]
  },
  {
   "cell_type": "markdown",
   "id": "149abe57",
   "metadata": {},
   "source": [
    "# Polynomial Regression"
   ]
  },
  {
   "cell_type": "code",
   "execution_count": 18,
   "id": "c20ffda8",
   "metadata": {},
   "outputs": [],
   "source": [
    "from sklearn.preprocessing import StandardScaler,PolynomialFeatures"
   ]
  },
  {
   "cell_type": "markdown",
   "id": "c975be38",
   "metadata": {},
   "source": [
    "# Selecting Features"
   ]
  },
  {
   "cell_type": "code",
   "execution_count": 26,
   "id": "6c03fc2a",
   "metadata": {},
   "outputs": [],
   "source": [
    "X = file_train[['OverallQual','1stFlrSF','FullBath','GarageCars','GarageArea','GrLivArea']]\n",
    "Y = file_train['SalePrice']\n",
    "poly_testing = file_test[['OverallQual','1stFlrSF','FullBath','GarageCars','GarageArea','GrLivArea']]"
   ]
  },
  {
   "cell_type": "markdown",
   "id": "155caeaf",
   "metadata": {},
   "source": [
    "# Reshaping"
   ]
  },
  {
   "cell_type": "code",
   "execution_count": 27,
   "id": "26fd2015",
   "metadata": {},
   "outputs": [],
   "source": [
    "X = np.array(X)\n",
    "Y = np.array(Y)\n",
    "X = x.reshape(-1,1)\n",
    "Y = y.reshape(-1,1)"
   ]
  },
  {
   "cell_type": "markdown",
   "id": "69c0faad",
   "metadata": {},
   "source": [
    "# Scalling"
   ]
  },
  {
   "cell_type": "code",
   "execution_count": 28,
   "id": "339db614",
   "metadata": {},
   "outputs": [],
   "source": [
    "scaler = StandardScaler()"
   ]
  },
  {
   "cell_type": "code",
   "execution_count": 29,
   "id": "75b19b7a",
   "metadata": {},
   "outputs": [],
   "source": [
    "X = scaler.fit_transform(X)\n",
    "Y = scaler.fit_transform(Y)"
   ]
  },
  {
   "cell_type": "markdown",
   "id": "6824c8fe",
   "metadata": {},
   "source": [
    "# PolynomialFeatures"
   ]
  },
  {
   "cell_type": "code",
   "execution_count": 30,
   "id": "4c3e67e2",
   "metadata": {},
   "outputs": [],
   "source": [
    "ps = PolynomialFeatures(degree = 2)"
   ]
  },
  {
   "cell_type": "code",
   "execution_count": 32,
   "id": "f39c091f",
   "metadata": {},
   "outputs": [],
   "source": [
    "X = ps.fit_transform(X)"
   ]
  },
  {
   "cell_type": "markdown",
   "id": "01890323",
   "metadata": {},
   "source": [
    "# Model Training"
   ]
  },
  {
   "cell_type": "code",
   "execution_count": 33,
   "id": "30956342",
   "metadata": {},
   "outputs": [],
   "source": [
    "lsc = LinearRegression()"
   ]
  },
  {
   "cell_type": "code",
   "execution_count": 35,
   "id": "dbb58a56",
   "metadata": {},
   "outputs": [
    {
     "data": {
      "text/plain": [
       "LinearRegression()"
      ]
     },
     "execution_count": 35,
     "metadata": {},
     "output_type": "execute_result"
    }
   ],
   "source": [
    "lsc.fit(X, Y)"
   ]
  },
  {
   "cell_type": "markdown",
   "id": "aa7e8cd9",
   "metadata": {},
   "source": [
    "# Accuracy"
   ]
  },
  {
   "cell_type": "code",
   "execution_count": 51,
   "id": "e385da33",
   "metadata": {},
   "outputs": [],
   "source": [
    "poly_acc = lsc.score(X, Y)*100"
   ]
  },
  {
   "cell_type": "markdown",
   "id": "72e5134d",
   "metadata": {},
   "source": [
    "# DataFrame OF Models Accuracy"
   ]
  },
  {
   "cell_type": "code",
   "execution_count": 53,
   "id": "899e2fd1",
   "metadata": {},
   "outputs": [],
   "source": [
    "import seaborn as sb"
   ]
  },
  {
   "cell_type": "code",
   "execution_count": 54,
   "id": "fac23d7c",
   "metadata": {},
   "outputs": [
    {
     "data": {
      "text/html": [
       "<div>\n",
       "<style scoped>\n",
       "    .dataframe tbody tr th:only-of-type {\n",
       "        vertical-align: middle;\n",
       "    }\n",
       "\n",
       "    .dataframe tbody tr th {\n",
       "        vertical-align: top;\n",
       "    }\n",
       "\n",
       "    .dataframe thead th {\n",
       "        text-align: right;\n",
       "    }\n",
       "</style>\n",
       "<table border=\"1\" class=\"dataframe\">\n",
       "  <thead>\n",
       "    <tr style=\"text-align: right;\">\n",
       "      <th></th>\n",
       "      <th>Accuracy</th>\n",
       "    </tr>\n",
       "  </thead>\n",
       "  <tbody>\n",
       "    <tr>\n",
       "      <th>Linear Model Accuracy</th>\n",
       "      <td>50.209165</td>\n",
       "    </tr>\n",
       "    <tr>\n",
       "      <th>Multi Model Accuracy</th>\n",
       "      <td>75.670265</td>\n",
       "    </tr>\n",
       "    <tr>\n",
       "      <th>Polynomial Model Accuracy</th>\n",
       "      <td>100.000000</td>\n",
       "    </tr>\n",
       "  </tbody>\n",
       "</table>\n",
       "</div>"
      ],
      "text/plain": [
       "                             Accuracy\n",
       "Linear Model Accuracy       50.209165\n",
       "Multi Model Accuracy        75.670265\n",
       "Polynomial Model Accuracy  100.000000"
      ]
     },
     "execution_count": 54,
     "metadata": {},
     "output_type": "execute_result"
    }
   ],
   "source": [
    "acc = {'Accuracy' : [lnr_acc,multi_acc,poly_acc]}\n",
    "index = [\"Linear Model Accuracy\",\"Multi Model Accuracy\",\"Polynomial Model Accuracy\"]\n",
    "df = pd.DataFrame(acc, index = index)\n",
    "df"
   ]
  },
  {
   "cell_type": "markdown",
   "id": "6e721aa7",
   "metadata": {},
   "source": [
    "# Heatmap For DataFrame"
   ]
  },
  {
   "cell_type": "code",
   "execution_count": 55,
   "id": "dbc4367b",
   "metadata": {},
   "outputs": [
    {
     "data": {
      "text/plain": [
       "<AxesSubplot:>"
      ]
     },
     "execution_count": 55,
     "metadata": {},
     "output_type": "execute_result"
    },
    {
     "data": {
      "image/png": "[encoded data removed]",
      "text/plain": [
       "<Figure size 432x288 with 2 Axes>"
      ]
     },
     "metadata": {
      "needs_background": "light"
     },
     "output_type": "display_data"
    }
   ],
   "source": [
    "sb.heatmap(df)"
   ]
  },
  {
   "cell_type": "code",
   "execution_count": null,
   "id": "d0f26573",
   "metadata": {},
   "outputs": [],
   "source": []
  }
 ],
 "metadata": {
  "kernelspec": {
   "display_name": "Python 3 (ipykernel)",
   "language": "python",
   "name": "python3"
  },
  "language_info": {
   "codemirror_mode": {
    "name": "ipython",
    "version": 3
   },
   "file_extension": ".py",
   "mimetype": "text/x-python",
   "name": "python",
   "nbconvert_exporter": "python",
   "pygments_lexer": "ipython3",
   "version": "3.9.12"
  }
 },
 "nbformat": 4,
 "nbformat_minor": 5
}
