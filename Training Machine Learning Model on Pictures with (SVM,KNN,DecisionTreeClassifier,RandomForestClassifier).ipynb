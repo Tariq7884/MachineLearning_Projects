{
 "cells": [
  {
   "cell_type": "markdown",
   "id": "714bb97a",
   "metadata": {},
   "source": [
    "# Importing Libraries"
   ]
  },
  {
   "cell_type": "code",
   "execution_count": 1,
   "id": "09cce7cf",
   "metadata": {},
   "outputs": [],
   "source": [
    "import os\n",
    "import matplotlib.pyplot as plt\n",
    "import numpy as np\n",
    "import cv2\n",
    "import glob\n",
    "from sklearn.tree import DecisionTreeClassifier\n",
    "from sklearn.ensemble import RandomForestClassifier"
   ]
  },
  {
   "cell_type": "markdown",
   "id": "a9381f87",
   "metadata": {},
   "source": [
    "# Folders Path"
   ]
  },
  {
   "cell_type": "code",
   "execution_count": 2,
   "id": "b2b32d08",
   "metadata": {},
   "outputs": [],
   "source": [
    "path = glob.glob('C:/Users/DeeP_LeaRneR/0_Anaconda_Tariq_Ullah/cr7/*')\n",
    "path2 = glob.glob('C:/Users/DeeP_LeaRneR/0_Anaconda_Tariq_Ullah/belli/*')\n",
    "path3 = glob.glob('C:/Users/DeeP_LeaRneR/Downloads/test pictures/*')"
   ]
  },
  {
   "cell_type": "markdown",
   "id": "cf1510a8",
   "metadata": {},
   "source": [
    "# Getting Pictures Out from Folders"
   ]
  },
  {
   "cell_type": "markdown",
   "id": "7b01f669",
   "metadata": {},
   "source": [
    "# Training Pictures"
   ]
  },
  {
   "cell_type": "code",
   "execution_count": 3,
   "id": "60835b6e",
   "metadata": {},
   "outputs": [],
   "source": [
    "cr = []\n",
    "for img in path:\n",
    "    imgcr = cv2.imread(img)\n",
    "    imgcr.resize(300, 300)\n",
    "    cr.append(imgcr)"
   ]
  },
  {
   "cell_type": "code",
   "execution_count": null,
   "id": "addff736",
   "metadata": {},
   "outputs": [],
   "source": []
  },
  {
   "cell_type": "code",
   "execution_count": 4,
   "id": "6c725b25",
   "metadata": {},
   "outputs": [],
   "source": [
    "belli = []\n",
    "for img2 in path2:\n",
    "    imgbelli = cv2.imread(img2)\n",
    "    imgbelli.resize(300, 300)\n",
    "    belli.append(imgbelli)"
   ]
  },
  {
   "cell_type": "markdown",
   "id": "c875f50d",
   "metadata": {},
   "source": [
    "# Testing Pictures"
   ]
  },
  {
   "cell_type": "code",
   "execution_count": 5,
   "id": "be3f8341",
   "metadata": {},
   "outputs": [],
   "source": [
    "test = []\n",
    "for file in path3:\n",
    "    testing = cv2.imread(file)\n",
    "    testing.resize(300, 300)\n",
    "    test.append(testing)"
   ]
  },
  {
   "cell_type": "markdown",
   "id": "564a734c",
   "metadata": {},
   "source": [
    "# Adding Pictures of two folders and Making Array Of it."
   ]
  },
  {
   "cell_type": "code",
   "execution_count": 6,
   "id": "85e37a35",
   "metadata": {},
   "outputs": [
    {
     "data": {
      "text/plain": [
       "(40, 300, 300)"
      ]
     },
     "execution_count": 6,
     "metadata": {},
     "output_type": "execute_result"
    }
   ],
   "source": [
    "f = cr + belli\n",
    "feat = np.array(f)\n",
    "feat.shape"
   ]
  },
  {
   "cell_type": "markdown",
   "id": "efac30fb",
   "metadata": {},
   "source": [
    "# Labels For The Pictures "
   ]
  },
  {
   "cell_type": "code",
   "execution_count": null,
   "id": "d8c34bf6",
   "metadata": {},
   "outputs": [],
   "source": [
    "cristiano  = list(np.ones(20))\n",
    "belli  = list(np.zeros(20))\n",
    "label = np.array(cristiano + belli)"
   ]
  },
  {
   "cell_type": "markdown",
   "id": "d294f80c",
   "metadata": {},
   "source": [
    "# Changing Color to rgb2gray"
   ]
  },
  {
   "cell_type": "code",
   "execution_count": 8,
   "id": "ec7ef58d",
   "metadata": {},
   "outputs": [
    {
     "name": "stderr",
     "output_type": "stream",
     "text": [
      "C:\\Users\\DEEP_L~1\\AppData\\Local\\Temp/ipykernel_7848/4016536078.py:2: FutureWarning: Non RGB image conversion is now deprecated. For RGBA images, please use rgb2gray(rgba2rgb(rgb)) instead. In version 0.19, a ValueError will be raised if input image last dimension length is not 3.\n",
      "  x = color.rgb2gray(feat)\n"
     ]
    },
    {
     "data": {
      "text/plain": [
       "(40, 300)"
      ]
     },
     "execution_count": 8,
     "metadata": {},
     "output_type": "execute_result"
    }
   ],
   "source": [
    "from skimage import color\n",
    "x = color.rgb2gray(feat)\n",
    "x.shape"
   ]
  },
  {
   "cell_type": "markdown",
   "id": "dbfa5913",
   "metadata": {},
   "source": [
    "# Labels for testing Data"
   ]
  },
  {
   "cell_type": "code",
   "execution_count": 9,
   "id": "fdb6190b",
   "metadata": {},
   "outputs": [],
   "source": [
    "first  = list(np.ones(10))\n",
    "second  = list(np.zeros(10))\n",
    "y_test = np.array(first + second)"
   ]
  },
  {
   "cell_type": "markdown",
   "id": "a1f68874",
   "metadata": {},
   "source": [
    "# Creating Array of Test_data"
   ]
  },
  {
   "cell_type": "code",
   "execution_count": 10,
   "id": "8f8ff8a8",
   "metadata": {},
   "outputs": [
    {
     "data": {
      "text/plain": [
       "(20, 300, 300)"
      ]
     },
     "execution_count": 10,
     "metadata": {},
     "output_type": "execute_result"
    }
   ],
   "source": [
    "test_data = np.array(test)\n",
    "test_data.shape"
   ]
  },
  {
   "cell_type": "markdown",
   "id": "397d4a58",
   "metadata": {},
   "source": [
    "# Changing color to rgb2gray"
   ]
  },
  {
   "cell_type": "code",
   "execution_count": 11,
   "id": "993552aa",
   "metadata": {},
   "outputs": [
    {
     "name": "stderr",
     "output_type": "stream",
     "text": [
      "C:\\Users\\DEEP_L~1\\AppData\\Local\\Temp/ipykernel_7848/859327807.py:1: FutureWarning: Non RGB image conversion is now deprecated. For RGBA images, please use rgb2gray(rgba2rgb(rgb)) instead. In version 0.19, a ValueError will be raised if input image last dimension length is not 3.\n",
      "  x_test = color.rgb2gray(test_data)\n"
     ]
    }
   ],
   "source": [
    "x_test = color.rgb2gray(test_data)"
   ]
  },
  {
   "cell_type": "markdown",
   "id": "6981d827",
   "metadata": {},
   "source": [
    "# Scalling the Data"
   ]
  },
  {
   "cell_type": "code",
   "execution_count": null,
   "id": "8eae831c",
   "metadata": {},
   "outputs": [],
   "source": []
  },
  {
   "cell_type": "code",
   "execution_count": 12,
   "id": "fe7a4524",
   "metadata": {},
   "outputs": [],
   "source": [
    "from sklearn.preprocessing import StandardScaler"
   ]
  },
  {
   "cell_type": "code",
   "execution_count": 13,
   "id": "7853c36a",
   "metadata": {},
   "outputs": [],
   "source": [
    "scaler = StandardScaler()"
   ]
  },
  {
   "cell_type": "code",
   "execution_count": 14,
   "id": "8f0580f6",
   "metadata": {},
   "outputs": [],
   "source": [
    "xs = scaler.fit_transform(x)\n",
    "xs_test = scaler.fit_transform(x_test)"
   ]
  },
  {
   "cell_type": "code",
   "execution_count": null,
   "id": "66851207",
   "metadata": {},
   "outputs": [],
   "source": []
  },
  {
   "cell_type": "markdown",
   "id": "c0015dcc",
   "metadata": {},
   "source": [
    "# Training SVC Model For Pictures"
   ]
  },
  {
   "cell_type": "code",
   "execution_count": 15,
   "id": "5f011d3e",
   "metadata": {},
   "outputs": [],
   "source": [
    "from sklearn.svm import SVC"
   ]
  },
  {
   "cell_type": "code",
   "execution_count": 16,
   "id": "96832cc7",
   "metadata": {},
   "outputs": [],
   "source": [
    "svm = SVC()"
   ]
  },
  {
   "cell_type": "code",
   "execution_count": 17,
   "id": "253ca245",
   "metadata": {},
   "outputs": [
    {
     "data": {
      "text/plain": [
       "SVC()"
      ]
     },
     "execution_count": 17,
     "metadata": {},
     "output_type": "execute_result"
    }
   ],
   "source": [
    "svm.fit(x, label)"
   ]
  },
  {
   "cell_type": "markdown",
   "id": "e3d0cc81",
   "metadata": {},
   "source": [
    "# checking Score "
   ]
  },
  {
   "cell_type": "code",
   "execution_count": 18,
   "id": "35d59839",
   "metadata": {},
   "outputs": [],
   "source": [
    "from sklearn.metrics import accuracy_score, r2_score"
   ]
  },
  {
   "cell_type": "markdown",
   "id": "1a55d7f5",
   "metadata": {},
   "source": [
    "# Predictions"
   ]
  },
  {
   "cell_type": "code",
   "execution_count": 19,
   "id": "b199ba82",
   "metadata": {},
   "outputs": [],
   "source": [
    "svm_pred = svm.predict(xs_test)"
   ]
  },
  {
   "cell_type": "markdown",
   "id": "0e41cab8",
   "metadata": {},
   "source": [
    "# Accuracy"
   ]
  },
  {
   "cell_type": "code",
   "execution_count": 20,
   "id": "f1b7d51f",
   "metadata": {},
   "outputs": [
    {
     "data": {
      "text/plain": [
       "50.0"
      ]
     },
     "execution_count": 20,
     "metadata": {},
     "output_type": "execute_result"
    }
   ],
   "source": [
    "svmaccuracy = accuracy_score(y_test, svm_pred)*100\n",
    "svmaccuracy"
   ]
  },
  {
   "cell_type": "code",
   "execution_count": null,
   "id": "86f65ddd",
   "metadata": {},
   "outputs": [],
   "source": []
  },
  {
   "cell_type": "markdown",
   "id": "274da604",
   "metadata": {},
   "source": [
    "# Training KNN model"
   ]
  },
  {
   "cell_type": "code",
   "execution_count": 21,
   "id": "6515e1cd",
   "metadata": {},
   "outputs": [],
   "source": [
    "from sklearn.neighbors import KNeighborsClassifier"
   ]
  },
  {
   "cell_type": "code",
   "execution_count": 22,
   "id": "8cbbf7d7",
   "metadata": {},
   "outputs": [],
   "source": [
    "knn = KNeighborsClassifier()"
   ]
  },
  {
   "cell_type": "code",
   "execution_count": 23,
   "id": "35deec7c",
   "metadata": {},
   "outputs": [
    {
     "data": {
      "text/plain": [
       "KNeighborsClassifier()"
      ]
     },
     "execution_count": 23,
     "metadata": {},
     "output_type": "execute_result"
    }
   ],
   "source": [
    "knn.fit(x, label)"
   ]
  },
  {
   "cell_type": "markdown",
   "id": "95acdcde",
   "metadata": {},
   "source": [
    "# Predictions And Accuracy Score"
   ]
  },
  {
   "cell_type": "code",
   "execution_count": 24,
   "id": "8b488875",
   "metadata": {},
   "outputs": [],
   "source": [
    "knn_pred = knn.predict(xs_test)"
   ]
  },
  {
   "cell_type": "code",
   "execution_count": 25,
   "id": "6688f895",
   "metadata": {},
   "outputs": [
    {
     "data": {
      "text/plain": [
       "75.0"
      ]
     },
     "execution_count": 25,
     "metadata": {},
     "output_type": "execute_result"
    }
   ],
   "source": [
    "knnaccuracy = accuracy_score(y_test, knn_pred)*100\n",
    "knnaccuracy"
   ]
  },
  {
   "cell_type": "code",
   "execution_count": null,
   "id": "3466d190",
   "metadata": {},
   "outputs": [],
   "source": []
  },
  {
   "cell_type": "markdown",
   "id": "d224e4b6",
   "metadata": {},
   "source": [
    "# Training Decision Tree Classifier Model"
   ]
  },
  {
   "cell_type": "code",
   "execution_count": 26,
   "id": "5b29af39",
   "metadata": {},
   "outputs": [],
   "source": [
    "from sklearn.tree import DecisionTreeClassifier"
   ]
  },
  {
   "cell_type": "code",
   "execution_count": 27,
   "id": "22a6ddf1",
   "metadata": {},
   "outputs": [],
   "source": [
    "dtc = DecisionTreeClassifier()"
   ]
  },
  {
   "cell_type": "code",
   "execution_count": 28,
   "id": "88c59c42",
   "metadata": {},
   "outputs": [
    {
     "data": {
      "text/plain": [
       "DecisionTreeClassifier()"
      ]
     },
     "execution_count": 28,
     "metadata": {},
     "output_type": "execute_result"
    }
   ],
   "source": [
    "dtc.fit(x, label)"
   ]
  },
  {
   "cell_type": "markdown",
   "id": "76c0243d",
   "metadata": {},
   "source": [
    "# Predictions And Accuracy Score"
   ]
  },
  {
   "cell_type": "code",
   "execution_count": 29,
   "id": "40486b2f",
   "metadata": {},
   "outputs": [],
   "source": [
    "dtcpred = dtc.predict(xs_test)"
   ]
  },
  {
   "cell_type": "code",
   "execution_count": 30,
   "id": "2396bffa",
   "metadata": {},
   "outputs": [
    {
     "data": {
      "text/plain": [
       "75.0"
      ]
     },
     "execution_count": 30,
     "metadata": {},
     "output_type": "execute_result"
    }
   ],
   "source": [
    "dtcaccuracy = accuracy_score(y_test, dtcpred)*100\n",
    "dtcaccuracy"
   ]
  },
  {
   "cell_type": "code",
   "execution_count": null,
   "id": "39de17d4",
   "metadata": {},
   "outputs": [],
   "source": []
  },
  {
   "cell_type": "markdown",
   "id": "6bf131e1",
   "metadata": {},
   "source": [
    "# Training RandomForestClassifier Model"
   ]
  },
  {
   "cell_type": "code",
   "execution_count": null,
   "id": "07cea900",
   "metadata": {},
   "outputs": [],
   "source": []
  },
  {
   "cell_type": "code",
   "execution_count": 31,
   "id": "46fb1504",
   "metadata": {},
   "outputs": [],
   "source": [
    "rfc = RandomForestClassifier()"
   ]
  },
  {
   "cell_type": "code",
   "execution_count": 32,
   "id": "e5e618fe",
   "metadata": {},
   "outputs": [
    {
     "data": {
      "text/plain": [
       "RandomForestClassifier()"
      ]
     },
     "execution_count": 32,
     "metadata": {},
     "output_type": "execute_result"
    }
   ],
   "source": [
    "rfc.fit(x, label)"
   ]
  },
  {
   "cell_type": "markdown",
   "id": "1ec95b5f",
   "metadata": {},
   "source": [
    "# Predictions And Accuracy Score"
   ]
  },
  {
   "cell_type": "code",
   "execution_count": 33,
   "id": "1baf708e",
   "metadata": {},
   "outputs": [],
   "source": [
    "rfcpred = rfc.predict(xs_test)"
   ]
  },
  {
   "cell_type": "code",
   "execution_count": 34,
   "id": "e13a8992",
   "metadata": {},
   "outputs": [
    {
     "data": {
      "text/plain": [
       "0.65"
      ]
     },
     "execution_count": 34,
     "metadata": {},
     "output_type": "execute_result"
    }
   ],
   "source": [
    "rfcaccuracy = accuracy_score(y_test , rfcpred)\n",
    "rfcaccuracy"
   ]
  },
  {
   "cell_type": "code",
   "execution_count": null,
   "id": "1ed24b48",
   "metadata": {},
   "outputs": [],
   "source": []
  },
  {
   "cell_type": "markdown",
   "id": "acb4a71a",
   "metadata": {},
   "source": [
    "# Training model by splitting the same data"
   ]
  },
  {
   "cell_type": "code",
   "execution_count": 35,
   "id": "55e2102a",
   "metadata": {},
   "outputs": [],
   "source": [
    "from sklearn.model_selection import train_test_split"
   ]
  },
  {
   "cell_type": "code",
   "execution_count": 36,
   "id": "665a4eb4",
   "metadata": {},
   "outputs": [],
   "source": [
    "X,x,Y,y = train_test_split(x, label, test_size = 0.2, shuffle = True)"
   ]
  },
  {
   "cell_type": "code",
   "execution_count": null,
   "id": "e6023fbe",
   "metadata": {},
   "outputs": [],
   "source": []
  },
  {
   "cell_type": "markdown",
   "id": "1a43a4b0",
   "metadata": {},
   "source": [
    "# Training Decision Tree Classifier Model"
   ]
  },
  {
   "cell_type": "code",
   "execution_count": 37,
   "id": "a8ad203f",
   "metadata": {},
   "outputs": [],
   "source": [
    "dtc1 = DecisionTreeClassifier()"
   ]
  },
  {
   "cell_type": "code",
   "execution_count": 38,
   "id": "fcb75897",
   "metadata": {},
   "outputs": [
    {
     "data": {
      "text/plain": [
       "DecisionTreeClassifier()"
      ]
     },
     "execution_count": 38,
     "metadata": {},
     "output_type": "execute_result"
    }
   ],
   "source": [
    "dtc1.fit(X, Y)"
   ]
  },
  {
   "cell_type": "markdown",
   "id": "704cf64d",
   "metadata": {},
   "source": [
    "# Predictions And Accuracy Score"
   ]
  },
  {
   "cell_type": "code",
   "execution_count": 39,
   "id": "a8fea6eb",
   "metadata": {},
   "outputs": [],
   "source": [
    "dtcpred1 = dtc1.predict(x)"
   ]
  },
  {
   "cell_type": "code",
   "execution_count": 40,
   "id": "9ce57321",
   "metadata": {},
   "outputs": [
    {
     "data": {
      "text/plain": [
       "50.0"
      ]
     },
     "execution_count": 40,
     "metadata": {},
     "output_type": "execute_result"
    }
   ],
   "source": [
    "dtcaccuracy1 = accuracy_score(y, dtcpred1)*100\n",
    "dtcaccuracy1"
   ]
  },
  {
   "cell_type": "code",
   "execution_count": null,
   "id": "0a813009",
   "metadata": {},
   "outputs": [],
   "source": []
  },
  {
   "cell_type": "markdown",
   "id": "23210ef8",
   "metadata": {},
   "source": [
    "# Training RandomForestClassifier Model"
   ]
  },
  {
   "cell_type": "code",
   "execution_count": 41,
   "id": "0398ea87",
   "metadata": {},
   "outputs": [],
   "source": [
    "rfc1 = RandomForestClassifier()"
   ]
  },
  {
   "cell_type": "code",
   "execution_count": 42,
   "id": "4585af62",
   "metadata": {},
   "outputs": [
    {
     "data": {
      "text/plain": [
       "RandomForestClassifier()"
      ]
     },
     "execution_count": 42,
     "metadata": {},
     "output_type": "execute_result"
    }
   ],
   "source": [
    "rfc1.fit(X, Y)"
   ]
  },
  {
   "cell_type": "markdown",
   "id": "c9da3586",
   "metadata": {},
   "source": [
    "# Predictions And Accuracy Score"
   ]
  },
  {
   "cell_type": "code",
   "execution_count": 43,
   "id": "1c33f2ca",
   "metadata": {},
   "outputs": [],
   "source": [
    "rfcpred1 = rfc1.predict(x)"
   ]
  },
  {
   "cell_type": "code",
   "execution_count": 44,
   "id": "9debd93b",
   "metadata": {},
   "outputs": [
    {
     "data": {
      "text/plain": [
       "62.5"
      ]
     },
     "execution_count": 44,
     "metadata": {},
     "output_type": "execute_result"
    }
   ],
   "source": [
    "rfcaccuracy1 = accuracy_score(y, rfcpred1)*100\n",
    "rfcaccuracy1"
   ]
  },
  {
   "cell_type": "code",
   "execution_count": null,
   "id": "f8f3785d",
   "metadata": {},
   "outputs": [],
   "source": []
  },
  {
   "cell_type": "markdown",
   "id": "59fe0522",
   "metadata": {},
   "source": [
    "# Training KNN Model"
   ]
  },
  {
   "cell_type": "code",
   "execution_count": 45,
   "id": "2f54e01e",
   "metadata": {},
   "outputs": [],
   "source": [
    "knn1 = KNeighborsClassifier()"
   ]
  },
  {
   "cell_type": "code",
   "execution_count": 46,
   "id": "8438ce7f",
   "metadata": {},
   "outputs": [
    {
     "data": {
      "text/plain": [
       "KNeighborsClassifier()"
      ]
     },
     "execution_count": 46,
     "metadata": {},
     "output_type": "execute_result"
    }
   ],
   "source": [
    "knn1.fit(X,Y)"
   ]
  },
  {
   "cell_type": "markdown",
   "id": "a322d965",
   "metadata": {},
   "source": [
    "# Predictions And Accuracy Score"
   ]
  },
  {
   "cell_type": "code",
   "execution_count": 47,
   "id": "5daeab5d",
   "metadata": {},
   "outputs": [],
   "source": [
    "knn1_pred = knn1.predict(x)"
   ]
  },
  {
   "cell_type": "code",
   "execution_count": 48,
   "id": "567894d4",
   "metadata": {},
   "outputs": [
    {
     "data": {
      "text/plain": [
       "37.5"
      ]
     },
     "execution_count": 48,
     "metadata": {},
     "output_type": "execute_result"
    }
   ],
   "source": [
    "knnaccuracy1 = accuracy_score(y, knn1_pred)*100\n",
    "knnaccuracy1"
   ]
  },
  {
   "cell_type": "code",
   "execution_count": null,
   "id": "8fcb699e",
   "metadata": {},
   "outputs": [],
   "source": []
  },
  {
   "cell_type": "markdown",
   "id": "f42e6aa7",
   "metadata": {},
   "source": [
    "# Training SVC Model"
   ]
  },
  {
   "cell_type": "code",
   "execution_count": 51,
   "id": "0a953bf9",
   "metadata": {},
   "outputs": [],
   "source": [
    "svc1 = SVC()"
   ]
  },
  {
   "cell_type": "code",
   "execution_count": 52,
   "id": "22a146bc",
   "metadata": {},
   "outputs": [
    {
     "data": {
      "text/plain": [
       "SVC()"
      ]
     },
     "execution_count": 52,
     "metadata": {},
     "output_type": "execute_result"
    }
   ],
   "source": [
    "svc1.fit(X, Y)"
   ]
  },
  {
   "cell_type": "markdown",
   "id": "1f75f8c0",
   "metadata": {},
   "source": [
    "# Predictions And Accuracy Score"
   ]
  },
  {
   "cell_type": "code",
   "execution_count": 53,
   "id": "eebf19d9",
   "metadata": {},
   "outputs": [],
   "source": [
    "svcpred1 = svc1.predict(x)"
   ]
  },
  {
   "cell_type": "code",
   "execution_count": 59,
   "id": "cd5718fc",
   "metadata": {},
   "outputs": [
    {
     "data": {
      "text/plain": [
       "0.75"
      ]
     },
     "execution_count": 59,
     "metadata": {},
     "output_type": "execute_result"
    }
   ],
   "source": [
    "svcaccuracy1 = accuracy_score(y, svcpred1)\n",
    "svcaccuracy1"
   ]
  },
  {
   "cell_type": "code",
   "execution_count": null,
   "id": "c0c89376",
   "metadata": {},
   "outputs": [],
   "source": []
  },
  {
   "cell_type": "markdown",
   "id": "aad421ea",
   "metadata": {},
   "source": [
    "# HeatMap"
   ]
  },
  {
   "cell_type": "code",
   "execution_count": null,
   "id": "cfd51c27",
   "metadata": {},
   "outputs": [],
   "source": []
  },
  {
   "cell_type": "code",
   "execution_count": 71,
   "id": "fa69133c",
   "metadata": {},
   "outputs": [],
   "source": [
    "import seaborn as sb\n",
    "import pandas as pd"
   ]
  },
  {
   "cell_type": "markdown",
   "id": "ba4c3f3e",
   "metadata": {},
   "source": [
    "# Making A DataFrame of Accuracy Results"
   ]
  },
  {
   "cell_type": "code",
   "execution_count": 72,
   "id": "79cb20fb",
   "metadata": {},
   "outputs": [
    {
     "data": {
      "text/plain": [
       "<AxesSubplot:>"
      ]
     },
     "execution_count": 72,
     "metadata": {},
     "output_type": "execute_result"
    },
    {
     "data": {
      "image/png": "[encoded data removed]",
      "text/plain": [
       "<Figure size 432x288 with 2 Axes>"
      ]
     },
     "metadata": {
      "needs_background": "light"
     },
     "output_type": "display_data"
    }
   ],
   "source": [
    "accuracy = {'Accuracy' : [svmaccuracy,knnaccuracy,dtcaccuracy,rfcaccuracy,svcaccuracy1,knnaccuracy1,dtcaccuracy1, rfcaccuracy1]}\n",
    "df = pd.DataFrame(accuracy)\n",
    "sb.heatmap(df)"
   ]
  },
  {
   "cell_type": "code",
   "execution_count": null,
   "id": "f6d84e26",
   "metadata": {},
   "outputs": [],
   "source": []
  }
 ],
 "metadata": {
  "kernelspec": {
   "display_name": "Python 3 (ipykernel)",
   "language": "python",
   "name": "python3"
  },
  "language_info": {
   "codemirror_mode": {
    "name": "ipython",
    "version": 3
   },
   "file_extension": ".py",
   "mimetype": "text/x-python",
   "name": "python",
   "nbconvert_exporter": "python",
   "pygments_lexer": "ipython3",
   "version": "3.9.12"
  }
 },
 "nbformat": 4,
 "nbformat_minor": 5
}
